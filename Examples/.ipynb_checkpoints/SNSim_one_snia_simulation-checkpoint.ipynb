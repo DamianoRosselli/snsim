{
 "cells": [
  {
   "cell_type": "markdown",
   "metadata": {},
   "source": [
    "# SNSim Examples"
   ]
  },
  {
   "cell_type": "code",
   "execution_count": 1,
   "metadata": {},
   "outputs": [
    {
     "name": "stderr",
     "output_type": "stream",
     "text": [
      "WARNING: AstropyDeprecationWarning: The update_default_config function is deprecated and may be removed in a future version. [sncosmo]\n"
     ]
    }
   ],
   "source": [
    "import snsim\n",
    "import numpy as np\n",
    "import matplotlib.pyplot as plt"
   ]
  },
  {
   "cell_type": "markdown",
   "metadata": {},
   "source": [
    "## Simulate one SNIa by setting the parameters"
   ]
  },
  {
   "cell_type": "markdown",
   "metadata": {},
   "source": [
    "### Init survey file"
   ]
  },
  {
   "cell_type": "code",
   "execution_count": 9,
   "metadata": {},
   "outputs": [
    {
     "name": "stdout",
     "output_type": "stream",
     "text": [
      "SURVEY FILE : ./survey_file_example.csv\n",
      "\n",
      "First day in survey_file : 58000.00 MJD / 2017-09-04 00:00:00.000\n",
      "Last day in survey_file : 58100.00 MJD / 2017-12-13 00:00:00.000\n",
      "\n",
      "Survey effective duration is 100.00 days\n",
      "\n",
      "Survey effective area is 54.48squared degrees (0.1 % of the sky)\n",
      "\n",
      "No cut on survey file.\n"
     ]
    }
   ],
   "source": [
    "# Set the cosmology\n",
    "cosmology = {'name': 'planck18'}\n",
    "cosmo =  snsim.utils.set_cosmo(cosmology)\n",
    "\n",
    "# Set the sncosmo model\n",
    "sn_model = snsim.utils.init_sn_model('salt2')\n",
    "\n",
    "# Set the survey\n",
    "survey_config = {'survey_file': './survey_file_example.csv',\n",
    "                 'sig_psf': 0.0,\n",
    "                 'sig_zp': 0.0,\n",
    "                 'gain': 1.,\n",
    "                 'zp': 26.,\n",
    "                 'ra_size': 7.295,\n",
    "                 'dec_size': 7.465,\n",
    "                 'noise_key': ['skynoise', 'skysigADU']}\n",
    "survey = snsim.survey_host.SurveyObs(survey_config)\n",
    "print(survey)"
   ]
  },
  {
   "cell_type": "markdown",
   "metadata": {},
   "source": [
    "### Init SN "
   ]
  },
  {
   "cell_type": "code",
   "execution_count": 3,
   "metadata": {},
   "outputs": [],
   "source": [
    "zcos = 0.05\n",
    "coords = np.radians([42, 42])\n",
    "sn_par = {'zcos': zcos,\n",
    "          'z2cmb': 0.0,\n",
    "          'como_dist': cosmo.comoving_distance(zcos).value,\n",
    "          'vpec': 300,\n",
    "          'sim_t0': 58030,\n",
    "          'ra': coords[0],\n",
    "          'dec': coords[1],\n",
    "          'mag_sct': 0.0,\n",
    "          'sncosmo': {'x1': 1, 'c': 0.1}\n",
    "           }\n",
    "model_par = {'M0': -19.3,\n",
    "             'alpha': 0.14,\n",
    "             'beta': 3.1,\n",
    "             'mod_fcov': False}\n",
    "\n",
    "SNIa = snsim.astrobj.SNIa(sn_par, sn_model, model_par=model_par)"
   ]
  },
  {
   "cell_type": "code",
   "execution_count": 14,
   "metadata": {},
   "outputs": [],
   "source": [
    "epochs = survey.epochs_selection(sn_par,\n",
    "                                 (SNIa.sim_model.mintime(),\n",
    "                                  SNIa.sim_model.maxtime()),\n",
    "                                  [1, -20, 50, 'any'])\n",
    "\n",
    "#SNIa.epochs = epochs\n",
    "\n",
    "#SNIa.gen_flux(np.random.default_rng(1200))"
   ]
  },
  {
   "cell_type": "code",
   "execution_count": 15,
   "metadata": {},
   "outputs": [
    {
     "data": {
      "text/plain": [
       "(None, None)"
      ]
     },
     "execution_count": 15,
     "metadata": {},
     "output_type": "execute_result"
    }
   ],
   "source": [
    "epochs"
   ]
  },
  {
   "cell_type": "code",
   "execution_count": 27,
   "metadata": {},
   "outputs": [
    {
     "name": "stderr",
     "output_type": "stream",
     "text": [
      "/tmp/ipykernel_43066/3948014244.py:13: DeprecationWarning: `np.bool` is a deprecated alias for the builtin `bool`. To silence this warning, use `bool` by itself. Doing this will not modify any behavior and is safe. If you specifically wanted the numpy scalar type, use `np.bool_` here.\n",
      "Deprecated in NumPy 1.20; for more details and guidance: https://numpy.org/devdocs/release/1.20.0-notes.html#deprecations\n",
      "  parmask = np.zeros(len(np.atleast_1d(par['ra'])), dtype=np.bool)\n"
     ]
    },
    {
     "ename": "NameError",
     "evalue": "name 'nbf' is not defined",
     "output_type": "error",
     "traceback": [
      "\u001b[0;31m---------------------------------------------------------------------------\u001b[0m",
      "\u001b[0;31mNameError\u001b[0m                                 Traceback (most recent call last)",
      "Input \u001b[0;32mIn [27]\u001b[0m, in \u001b[0;36m<module>\u001b[0;34m\u001b[0m\n\u001b[0;32m----> 1\u001b[0m \u001b[43mepochs_selection\u001b[49m\u001b[43m(\u001b[49m\u001b[43msn_par\u001b[49m\u001b[43m,\u001b[49m\n\u001b[1;32m      2\u001b[0m \u001b[43m                \u001b[49m\u001b[43m(\u001b[49m\u001b[43mSNIa\u001b[49m\u001b[38;5;241;43m.\u001b[39;49m\u001b[43msim_model\u001b[49m\u001b[38;5;241;43m.\u001b[39;49m\u001b[43mmintime\u001b[49m\u001b[43m(\u001b[49m\u001b[43m)\u001b[49m\u001b[43m,\u001b[49m\n\u001b[1;32m      3\u001b[0m \u001b[43m                \u001b[49m\u001b[43mSNIa\u001b[49m\u001b[38;5;241;43m.\u001b[39;49m\u001b[43msim_model\u001b[49m\u001b[38;5;241;43m.\u001b[39;49m\u001b[43mmaxtime\u001b[49m\u001b[43m(\u001b[49m\u001b[43m)\u001b[49m\u001b[43m)\u001b[49m\u001b[43m,\u001b[49m\n\u001b[1;32m      4\u001b[0m \u001b[43m                 \u001b[49m\u001b[43m[\u001b[49m\u001b[38;5;241;43m1\u001b[39;49m\u001b[43m,\u001b[49m\u001b[43m \u001b[49m\u001b[38;5;241;43m-\u001b[39;49m\u001b[38;5;241;43m20\u001b[39;49m\u001b[43m,\u001b[49m\u001b[43m \u001b[49m\u001b[38;5;241;43m50\u001b[39;49m\u001b[43m,\u001b[49m\u001b[43m \u001b[49m\u001b[38;5;124;43m'\u001b[39;49m\u001b[38;5;124;43many\u001b[39;49m\u001b[38;5;124;43m'\u001b[39;49m\u001b[43m]\u001b[49m\u001b[43m)\u001b[49m\n",
      "Input \u001b[0;32mIn [26]\u001b[0m, in \u001b[0;36mepochs_selection\u001b[0;34m(par, model_t_range, nep_cut, IDmin)\u001b[0m\n\u001b[1;32m     22\u001b[0m obs_selec \u001b[38;5;241m=\u001b[39m survey\u001b[38;5;241m.\u001b[39mobs_table[epochs_selec]\n\u001b[1;32m     24\u001b[0m \u001b[38;5;66;03m# -- Time range selection\u001b[39;00m\n\u001b[0;32m---> 25\u001b[0m is_obs, epochs_selec \u001b[38;5;241m=\u001b[39m \u001b[43mnbf\u001b[49m\u001b[38;5;241m.\u001b[39mtime_selec(obs_selec[\u001b[38;5;124m'\u001b[39m\u001b[38;5;124mexpMJD\u001b[39m\u001b[38;5;124m'\u001b[39m]\u001b[38;5;241m.\u001b[39mto_numpy(),\n\u001b[1;32m     26\u001b[0m                                       MinT[i], MaxT[i])\n\u001b[1;32m     27\u001b[0m \u001b[38;5;28mprint\u001b[39m(is_obs)\n\u001b[1;32m     28\u001b[0m \u001b[38;5;28;01mif\u001b[39;00m is_obs \u001b[38;5;129;01mand\u001b[39;00m \u001b[38;5;124m'\u001b[39m\u001b[38;5;124msub_field\u001b[39m\u001b[38;5;124m'\u001b[39m \u001b[38;5;129;01min\u001b[39;00m survey\u001b[38;5;241m.\u001b[39mconfig:\n",
      "\u001b[0;31mNameError\u001b[0m: name 'nbf' is not defined"
     ]
    }
   ],
   "source": [
    "epochs_selection(sn_par,\n",
    "                (SNIa.sim_model.mintime(),\n",
    "                SNIa.sim_model.maxtime()),\n",
    "                 [1, -20, 50, 'any'])"
   ]
  },
  {
   "cell_type": "code",
   "execution_count": 21,
   "metadata": {},
   "outputs": [],
   "source": [
    "import astropy.constants as acst"
   ]
  },
  {
   "cell_type": "code",
   "execution_count": 26,
   "metadata": {},
   "outputs": [],
   "source": [
    "C_LIGHT_KMS = acst.c.to('km/s').value\n",
    "\n",
    "def epochs_selection(par, model_t_range, nep_cut, IDmin=0):\n",
    "    zobs = (1. + par['zcos']) * (1. + par['z2cmb']) * (1. + par['vpec'] / C_LIGHT_KMS) - 1.\n",
    "    MinT = np.atleast_1d(par['sim_t0'] + model_t_range[0] * (1. + zobs))\n",
    "    MaxT = np.atleast_1d(par['sim_t0'] + model_t_range[1] * (1. + zobs))\n",
    "\n",
    "    # -- Get observed fields and subfield for all obj\n",
    "    fieldsID, obs_subfields = survey.fields.is_in_field(par['ra'], par['dec'])\n",
    "\n",
    "    # -- Init epochs list to store observations\n",
    "    epochs = []\n",
    "    parmask = np.zeros(len(np.atleast_1d(par['ra'])), dtype=np.bool)\n",
    "\n",
    "    ID = IDmin\n",
    "    for i in range(len(obs_subfields)):\n",
    "        # -- Fields selection\n",
    "        fmask = obs_subfields[i] != -1\n",
    "        fields = fieldsID[fmask]\n",
    "\n",
    "        epochs_selec = snsim.nb_fun.isin(survey.obs_table['fieldID'].to_numpy(), fields)\n",
    "        obs_selec = survey.obs_table[epochs_selec]\n",
    "\n",
    "        # -- Time range selection\n",
    "        is_obs, epochs_selec = snsim.nbf.time_selec(obs_selec['expMJD'].to_numpy(),\n",
    "                                              MinT[i], MaxT[i])\n",
    "        print(is_obs)\n",
    "        if is_obs and 'sub_field' in survey.config:\n",
    "            obs_selec = obs_selec[epochs_selec]\n",
    "            # -- Subfield selection\n",
    "            dic_map = nbtyped.Dict.empty(nbtypes.int64, nbtypes.int64)\n",
    "            for f, c in zip(fields,  obs_subfields[i][fmask]):\n",
    "                dic_map[f] = c\n",
    "            is_obs, epochs_selec = nbf.map_obs_subfields(\n",
    "                                            obs_selec['fieldID'].to_numpy(),\n",
    "                                            obs_selec[survey.config['sub_field']].to_numpy(),\n",
    "                                            dic_map)\n",
    "        if is_obs:\n",
    "            # -- Check if the observation pass cuts\n",
    "            obs_selec = obs_selec[epochs_selec]\n",
    "            phase = (obs_selec['expMJD'] - par['sim_t0'][i]) / (1. + zobs[i])\n",
    "            for cut in nep_cut:\n",
    "                test = (phase > cut[1]) & (phase < cut[2])\n",
    "                if cut[3] != 'any':\n",
    "                    test &= obs_selec['filter'] == cut[3]\n",
    "                if test.sum() < int(cut[0]):\n",
    "                    is_obs = False\n",
    "                    break\n",
    "        if is_obs:\n",
    "            # Save the epochs if observed\n",
    "            obs = obs_selec.copy()\n",
    "            obs['ID'] = ID\n",
    "            epochs.append(obs)\n",
    "            ID += 1\n",
    "\n",
    "        parmask[i] = is_obs\n",
    "\n",
    "    # -- In case of no obs\n",
    "    if len(epochs) == 0:\n",
    "        return None, None\n",
    "\n",
    "    # -- pd Dataframe of all obs\n",
    "    obsdf = pd.concat(epochs)\n",
    "    obsdf.set_index('ID', inplace=True, drop=True)\n",
    "    return survey._make_obs_table(obsdf.copy()), parmask"
   ]
  },
  {
   "cell_type": "markdown",
   "metadata": {
    "tags": []
   },
   "source": [
    "### Plot the SN"
   ]
  },
  {
   "cell_type": "code",
   "execution_count": null,
   "metadata": {},
   "outputs": [],
   "source": [
    "fig, ax = plt.subplots(dpi=100)\n",
    "time = np.linspace(SNIa.sim_lc['time'].min(), SNIa.sim_lc['time'].max(), 500)\n",
    "for b, c in zip(SNIa.sim_lc['band'].unique(), ['r', 'b']):\n",
    "    ep = SNIa.sim_lc.query(f\"band == '{b}'\")\n",
    "    ax.errorbar(ep['time'], ep['flux'], yerr=ep['fluxerr'], fmt='o', c=c, label=b)\n",
    "    ax.plot(time, SNIa.sim_model.bandflux(b, time, zp=26., zpsys='ab'), c=c)\n",
    "plt.ylabel('Flux [ADU] ZP = 26')\n",
    "plt.xlabel('time [MJD]')\n",
    "plt.axhline(0, c='k', ls='--')\n",
    "plt.legend();"
   ]
  }
 ],
 "metadata": {
  "kernelspec": {
   "display_name": "Python 3 (ipykernel)",
   "language": "python",
   "name": "python3"
  },
  "language_info": {
   "codemirror_mode": {
    "name": "ipython",
    "version": 3
   },
   "file_extension": ".py",
   "mimetype": "text/x-python",
   "name": "python",
   "nbconvert_exporter": "python",
   "pygments_lexer": "ipython3",
   "version": "3.8.12"
  }
 },
 "nbformat": 4,
 "nbformat_minor": 4
}
