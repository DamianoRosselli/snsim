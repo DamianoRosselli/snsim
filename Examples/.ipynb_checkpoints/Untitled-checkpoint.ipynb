{
 "cells": [
  {
   "cell_type": "code",
   "execution_count": 1,
   "id": "22504b54-9ec6-4c89-8aec-6f996a2efae7",
   "metadata": {},
   "outputs": [
    {
     "name": "stderr",
     "output_type": "stream",
     "text": [
      "WARNING: AstropyDeprecationWarning: The update_default_config function is deprecated and may be removed in a future version. [sncosmo]\n"
     ]
    }
   ],
   "source": [
    "import sys\n",
    "sys.path.append('/renoir/carreres/CosmoSoft/snsim/')\n",
    "import snsim"
   ]
  },
  {
   "cell_type": "code",
   "execution_count": null,
   "id": "6da5a4d4-aea6-4a4b-9815-117781c1b90d",
   "metadata": {},
   "outputs": [],
   "source": [
    "import importlib\n",
    "importlib.reload(snsim.survey_host)\n",
    "importlib.reload(snsim.simu)\n",
    "importlib.reload(snsim.generators)\n",
    "\n"
   ]
  },
  {
   "cell_type": "code",
   "execution_count": 2,
   "id": "1185181e-6d7d-4777-bbd0-7e6edd3c34d6",
   "metadata": {},
   "outputs": [
    {
     "name": "stdout",
     "output_type": "stream",
     "text": [
      "PARAMETERS USED IN SIMULATION\n",
      "\n",
      "data:\n",
      "    write_path: /renoir/carreres/mydatadec/MySim/paper_sim/output/\n",
      "    write_format: ['parquet']\n",
      "    sim_name: paper_ztf_test\n",
      "survey_config:\n",
      "    survey_file: /renoir/carreres/mydatadec/MySim/paper_sim/input_files/ztf_obsfile_maglimcat_test.parquet\n",
      "    sig_psf: 0.0\n",
      "    sig_zp: 0.0\n",
      "    ra_size: 7.295\n",
      "    dec_size: 7.465\n",
      "    noise_key: ['maglimcat', 'mlim5']\n",
      "    sub_field: rcid\n",
      "    field_map: /renoir/carreres/Documents/Paper_script/sim_input/ZTF_CCD.dat\n",
      "    add_data: ['maglimcat', 'infobits']\n",
      "sim_par:\n",
      "    z_range: [0.01, 0.17]\n",
      "    nep_cut: [[5, -20, 50], [1, -20, 50, 'ztfr'], [1, -20, 50, 'ztfg']]\n",
      "snia_gen:\n",
      "    rate: ztf20\n",
      "    force_n: 10\n",
      "    M0: jla\n",
      "    sigM: 0.12\n",
      "    model_config:\n",
      "        model_name: salt2\n",
      "        alpha: 0.14\n",
      "        beta: 3.1\n",
      "        dist_x1: N21\n",
      "        dist_c: [-0.055, 0.023, 0.15]\n",
      "cosmology:\n",
      "    Om0: 0.32\n",
      "    H0: 71.0\n",
      "    Ode0: 0.6799999999999999\n",
      "cmb:\n",
      "    v_cmb: 0\n",
      "mw_dust:\n",
      "    model: ccm89\n",
      "    rv: 3.1\n"
     ]
    }
   ],
   "source": [
    "sim = snsim.Simulator('/renoir/carreres/Documents/Paper_script/sim_input/config_paper_sim_test.yml',\n",
    "                      print_config=True)"
   ]
  },
  {
   "cell_type": "code",
   "execution_count": null,
   "id": "55e565ee-c628-4c68-9447-81b8273d20f0",
   "metadata": {},
   "outputs": [],
   "source": [
    "import warnings\n",
    "warnings.filterwarnings(\"error\")"
   ]
  },
  {
   "cell_type": "code",
   "execution_count": 3,
   "id": "7af32e69-5dec-4bbd-9ab8-096670e6db51",
   "metadata": {},
   "outputs": [
    {
     "name": "stdout",
     "output_type": "stream",
     "text": [
      "      _______..__   __.         _______. __  .___  ___. \n",
      "     /       ||  \\ |  |        /       ||  | |   \\/   | \n",
      "    |   (----`|   \\|  |       |   (----`|  | |  \\  /  | \n",
      "     \\   \\    |  . `  |        \\   \\    |  | |  |\\/|  | \n",
      " .----)   |   |  |\\   |    .----)   |   |  | |  |  |  | \n",
      " |_______/    |__| \\__|    |_______/    |__| |__|  |__| \n",
      "================================= Version : 0.4.5_dev ====== \n",
      "-----------------------------------------------------------\n",
      "\n",
      "SIM NAME : paper_ztf_test\n",
      "CONFIG FILE : /renoir/carreres/Documents/Paper_script/sim_input/config_paper_sim_test.yml\n",
      "SIM WRITE DIRECTORY : /renoir/carreres/mydatadec/MySim/paper_sim/output/\n",
      "SIMULATION RANDSEED : 97237\n",
      "\n",
      "-----------------------------------------------------------\n",
      "\n",
      "SURVEY FILE : /renoir/carreres/mydatadec/MySim/paper_sim/input_files/ztf_obsfile_maglimcat_test.parquet\n",
      "\n",
      "First day in survey_file : 58288.17 MJD / 2018-06-19 04:07:30.000\n",
      "Last day in survey_file : 58378.17 MJD / 2018-09-17 04:01:52.500\n",
      "\n",
      "Survey effective duration is 90.00 days\n",
      "\n",
      "Survey effective area is 27330.35 squared degrees (66.3 % of the sky)\n",
      "\n",
      "No cut on survey file.\n",
      "\n",
      "-----------------------------------------------------------\n",
      "\n",
      "OBJECT TYPE : SNIa\n",
      "SIM MODEL : salt2 from sncosmo\n",
      "\n",
      "Model COV OFF\n",
      "\n",
      "Generate 10 SN Ia\n",
      "\n",
      "Rate r = 2.25e-05 * (1 + z)^0 /Mpc^3/year  (only for redshifts simulation)\n",
      "\n",
      "Peak mintime : 58229.67 MJD / 2018-04-21 16:07:30.000\n",
      "Peak maxtime : 58401.57 MJD / 2018-10-10 13:37:52.500 \n",
      "\n",
      "-----------------------------------------------------------\n",
      "\n",
      "Use mw dust model : ccm89 with RV = 3.1\n",
      "\n",
      "-----------------------------------------------------------\n",
      "\n",
      "Ligthcurves cuts :\n",
      "- At least 5 epochs between -20 and 50 rest-frame phase in any band\n",
      "- At least 1 epochs between -20 and 50 rest-frame phase in ztfr band\n",
      "- At least 1 epochs between -20 and 50 rest-frame phase in ztfg band\n",
      "\n",
      "-----------------------------------------------------------\n",
      "\n",
      "10 SNIa lcs generated in 2.0 seconds\n",
      "Sim file write in 0.0 seconds\n",
      "\n",
      "-----------------------------------------------------------\n",
      "\n",
      "OUTPUT FILE(S) : \n",
      "- /renoir/carreres/mydatadec/MySim/paper_sim/output/paper_ztf_test_SNIa.parquet\n"
     ]
    }
   ],
   "source": [
    "sim.simulate()"
   ]
  },
  {
   "cell_type": "code",
   "execution_count": null,
   "id": "0fd20e56-6e4d-4d50-97ac-58454944f3ca",
   "metadata": {},
   "outputs": [],
   "source": [
    "sim.samples[0].plot_lc(34)"
   ]
  },
  {
   "cell_type": "code",
   "execution_count": null,
   "id": "98d52c0f-0302-4f65-8476-d242ac00f16f",
   "metadata": {},
   "outputs": [],
   "source": [
    "from astropy.time import Time\n",
    "t = Time(59500, format='mjd')"
   ]
  },
  {
   "cell_type": "code",
   "execution_count": null,
   "id": "25d15355-f366-45d8-b6ca-ff3de6bb6efd",
   "metadata": {},
   "outputs": [],
   "source": [
    "import astropy.units as aunit"
   ]
  },
  {
   "cell_type": "code",
   "execution_count": null,
   "id": "89e2e9ac-c120-42f2-9f7e-3cb2b7cf43a6",
   "metadata": {},
   "outputs": [],
   "source": [
    "t + 1 * aunit.day"
   ]
  },
  {
   "cell_type": "code",
   "execution_count": null,
   "id": "6fb330f1-720d-41c0-aa2e-bd8be2c46da4",
   "metadata": {},
   "outputs": [],
   "source": [
    "sim.survey.start_end_days"
   ]
  },
  {
   "cell_type": "code",
   "execution_count": null,
   "id": "f70b4c05-1839-4530-be3f-33400badcfe4",
   "metadata": {},
   "outputs": [],
   "source": []
  }
 ],
 "metadata": {
  "kernelspec": {
   "display_name": "snsim_env",
   "language": "python",
   "name": "snsim_env"
  },
  "language_info": {
   "codemirror_mode": {
    "name": "ipython",
    "version": 3
   },
   "file_extension": ".py",
   "mimetype": "text/x-python",
   "name": "python",
   "nbconvert_exporter": "python",
   "pygments_lexer": "ipython3",
   "version": "3.8.13"
  }
 },
 "nbformat": 4,
 "nbformat_minor": 5
}
